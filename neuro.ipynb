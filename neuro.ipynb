{
 "cells": [
  {
   "cell_type": "code",
   "execution_count": 42,
   "metadata": {},
   "outputs": [],
   "source": [
    "from collections import Counter\n",
    "\n",
    "import torch\n",
    "import torch.nn as nn\n",
    "import torch.nn.functional as F\n",
    "import numpy as np"
   ]
  },
  {
   "cell_type": "code",
   "execution_count": 43,
   "metadata": {},
   "outputs": [
    {
     "name": "stdout",
     "output_type": "stream",
     "text": [
      "[' ', 'о', 'е', 'а', 'и', 'н', 'т', 'с', 'р', 'л', 'к', 'м', 'в', 'д', 'ь', 'у', 'п', 'я', 'ы', 'з', 'б', 'ч', ',', 'г', 'й', '.', 'ж', 'ш', 'х', 'ц', 'ю', 'щ', '-', 'э', 'В', 'Э', '«', '»', 'К', 'П', 'О', 'С', '!', 'ф', 'Т', 'Д', 'Н', 'И', 'А', 'Е', 'М', ':', '–', 'ё', 'У', '5', '7', 'Г', '?', '4', '6', 'З', 'Ф', 'Л', 'Р', 'Б', 'Х', '\\n', 'Ж', 'ъ', 'Ч', 'Я', 'X', 'I', 'V', '(', ')', '/']\n"
     ]
    }
   ],
   "source": [
    "TRAIN_TEXT_FILE_PATH = 'train_text.txt'\n",
    "\n",
    "#!/usr/bin/env python\n",
    "# -*- coding: utf-8 -*-\n",
    "# vim:fileencoding=utf-8\n",
    "# \n",
    "\n",
    "with open(TRAIN_TEXT_FILE_PATH, encoding=\"utf8\") as text_file:\n",
    "    text_sample = text_file.readlines()\n",
    "text_sample = ' '.join(text_sample)\n",
    "\n",
    "def text_to_seq(text_sample):\n",
    "    char_counts = Counter(text_sample)\n",
    "    char_counts = sorted(char_counts.items(), key = lambda x: x[1], reverse=True)\n",
    "\n",
    "    sorted_chars = [char for char, _ in char_counts]\n",
    "    print(sorted_chars)\n",
    "    char_to_idx = {char: index for index, char in enumerate(sorted_chars)}\n",
    "    idx_to_char = {v: k for k, v in char_to_idx.items()}\n",
    "    sequence = np.array([char_to_idx[char] for char in text_sample])\n",
    "    \n",
    "    return sequence, char_to_idx, idx_to_char\n",
    "\n",
    "sequence, char_to_idx, idx_to_char = text_to_seq(text_sample)"
   ]
  },
  {
   "cell_type": "code",
   "execution_count": 44,
   "metadata": {},
   "outputs": [],
   "source": [
    "SEQ_LEN = 256\n",
    "BATCH_SIZE = 16\n",
    "\n",
    "def get_batch(sequence):\n",
    "    trains = []\n",
    "    targets = []\n",
    "    for _ in range(BATCH_SIZE):\n",
    "        batch_start = np.random.randint(0, len(sequence) - SEQ_LEN)\n",
    "        chunk = sequence[batch_start: batch_start + SEQ_LEN]\n",
    "        train = torch.LongTensor(chunk[:-1]).view(-1, 1)\n",
    "        target = torch.LongTensor(chunk[1:]).view(-1, 1)\n",
    "        trains.append(train)\n",
    "        targets.append(target)\n",
    "    return torch.stack(trains, dim=0), torch.stack(targets, dim=0)"
   ]
  },
  {
   "cell_type": "code",
   "execution_count": 45,
   "metadata": {},
   "outputs": [],
   "source": [
    "def evaluate(model, char_to_idx, idx_to_char, start_text=' ', prediction_len=200, temp=0.3):\n",
    "    hidden = model.init_hidden()\n",
    "    idx_input = [char_to_idx[char] for char in start_text]\n",
    "    train = torch.LongTensor(idx_input).view(-1, 1, 1).to(device)\n",
    "    predicted_text = start_text\n",
    "    \n",
    "    _, hidden = model(train, hidden)\n",
    "        \n",
    "    inp = train[-1].view(-1, 1, 1)\n",
    "    \n",
    "    for i in range(prediction_len):\n",
    "        output, hidden = model(inp.to(device), hidden)\n",
    "        output_logits = output.cpu().data.view(-1)\n",
    "        p_next = F.softmax(output_logits / temp, dim=-1).detach().cpu().data.numpy()        \n",
    "        top_index = np.random.choice(len(char_to_idx), p=p_next)\n",
    "        inp = torch.LongTensor([top_index]).view(-1, 1, 1).to(device)\n",
    "        predicted_char = idx_to_char[top_index]\n",
    "        predicted_text += predicted_char\n",
    "    \n",
    "    while predicted_char!=\".\" and predicted_char!=\"!\":\n",
    "        output, hidden = model(inp.to(device), hidden)\n",
    "        output_logits = output.cpu().data.view(-1)\n",
    "        p_next = F.softmax(output_logits / temp, dim=-1).detach().cpu().data.numpy()        \n",
    "        top_index = np.random.choice(len(char_to_idx), p=p_next)\n",
    "        inp = torch.LongTensor([top_index]).view(-1, 1, 1).to(device)\n",
    "        predicted_char = idx_to_char[top_index]\n",
    "        predicted_text += predicted_char\n",
    "        \n",
    "    return predicted_text\n"
   ]
  },
  {
   "cell_type": "code",
   "execution_count": 46,
   "metadata": {},
   "outputs": [],
   "source": [
    "class TextRNN(nn.Module):\n",
    "    \n",
    "    def __init__(self, input_size, hidden_size, embedding_size, n_layers=1):\n",
    "        super(TextRNN, self).__init__()\n",
    "        \n",
    "        self.input_size = input_size\n",
    "        self.hidden_size = hidden_size\n",
    "        self.embedding_size = embedding_size\n",
    "        self.n_layers = n_layers\n",
    "\n",
    "        self.encoder = nn.Embedding(self.input_size, self.embedding_size)\n",
    "        self.lstm = nn.LSTM(self.embedding_size, self.hidden_size, self.n_layers)\n",
    "        self.dropout = nn.Dropout(0.2)\n",
    "        self.fc = nn.Linear(self.hidden_size, self.input_size)\n",
    "        \n",
    "    def forward(self, x, hidden):\n",
    "        x = self.encoder(x).squeeze(2)\n",
    "        out, (ht1, ct1) = self.lstm(x, hidden)\n",
    "        out = self.dropout(out)\n",
    "        x = self.fc(out)\n",
    "        return x, (ht1, ct1)\n",
    "    \n",
    "    def init_hidden(self, batch_size=1):\n",
    "        return (torch.zeros(self.n_layers, batch_size, self.hidden_size, requires_grad=True).to(device),\n",
    "               torch.zeros(self.n_layers, batch_size, self.hidden_size, requires_grad=True).to(device))"
   ]
  },
  {
   "cell_type": "code",
   "execution_count": 47,
   "metadata": {},
   "outputs": [
    {
     "name": "stdout",
     "output_type": "stream",
     "text": [
      "Loss: 2.8114554023742677\n",
      " дотольно тосте на не постатом стоми породно соторольно встами тольно кольно ванто с додно сашения поворосте стольцо достовостет стольно стостими на станнов водости стостольно стольно стольно с и кольно вистольно стольно и стостольно стольно вот в это потостовосто на стостомать постому вод тольно потольно стотольно пододно и датьно вантом серетость стольно кольно ни кодочения стольно потом ванно стодольно в в кашения но додит комить соводить подно и ванно соторость ванто старать столяните на вередно на середнольной подит вантом пододно стольно сересте стодод кольно подобление танно в дально состоторанить в предно стостольно стольно стольно стольно подоритольно подно с стостим в вашение стами в тольно стольно с подоние с с на вольно стово потостод сератим в валения с стоми кольцо с востольно стольно в додно стольно стодосто сотольно стовосто кольно кольцо подотрения стодорость стольно стородно пододно комак стодостить ограните стольно стольной в потольно сторольно стодити стольно стак подобредно в стакрени.\n",
      "Loss: 1.9491509580612183\n",
      " подик как серебряными и сторония и достоят в кольцо с камень, кольцо с прикором и стативает в достоянно просто в серебряных как камень в подостином и вами все все должать с серебряные собым все достоянно просто водной и сторование все дочно минерал собе также они волить не собрасими не стальным камней прониальным в сотен как как с потренность, котором сотен красоти камня с бриллиантась с достоят в подорование подоркивает с подобное и на додно подренность, подно не подорято все не серебряный людей с свое красиво собым в потреть в сотором собы на образаниться с ваши стали с стали ваши подобное и сторование все стали все красивыми не только в зарованительно активантами в сотен из соненном все с стативает подобной клемет в солнатительно доллиантами все дриплатьным с ведит в кольца и сторонь из серебряный на должанта и надеть в серебряный камня подрование они вместе с вего как стали с верем все подобной на дотрить в подованительно все с подобной ваши с подобной собым в сотен камень, вы достоят ваши стали в додно серебряный с камень все не камнем с камень ваши серебряных камнем из подоних подостается в сотен подорить в сотен как подочно и сотенно света с сотен все с меньцо ваши ваши собраза и соберебряно на достоят в с от камнем и статительно ваши настовы обрасота, кольца в подать с с камень подортовует с серебряный как с сотенти стали спосить серебряные в величение с вество с стали с статуса в с каждый камнем кольцо не соберебряных камень все из сотенный камень все с сторованительно свете и надеть в сотен все достоят в достоянно с серебро с камень с с сторование с стали с света собы приранительно кольцо ваши с додит в сотен вместе в сорить в сотен камнем из не должен собразание в место с серебряные серебряный с камень все не кольцо с на они ваши стали в разным камня этом с сотен в подом собым в свое стали в ваши все достоинствительно света подобной собы так в бы брасить в вашу из подо сотентильно с камень в на раз собым потренность в серебряной стали с стали с статуса и с додно на серебряные в подо серебряные красота.\n",
      "Loss: 1.4685148310661316\n",
      " всегда и должна различными на этот вашу сторону. Это кольцо на этот ваши надеждыми в подолнительно востоинство временно не просто потрясающими в любого кольцо кольцо на этом и продолго все своего колютственных самовать в воздухе.\n",
      "Loss: 1.1625233554840089\n",
      " как на этим камнем и надежно и света и примете отличное и просто вы точно и меньше и с подобным налом и надевает все шкак свет. В общем, но и света, и надевает все добре, а также и подчеркивает клеевого самых может ваш статус состоятельного восхищаться и с будут камнем из самых древних дажает своего временно сокровище владельце серебряные украшение из медицинской стали статус налом и света, а не закреплены все закреплены просто истощаются.\n",
      "Loss: 0.9570825076103211\n",
      " вашу сторону. Серебряной камень, нечительно восхищаются или достоинством. Сегодня не только на этот камень, носить под и просто водной защите серебряный камень. Камень собледе и серебро, а не закреплены с каждым солнечного сокровище все закреплено наши надежно и красиво подчеркнут вашу сторону.\n"
     ]
    }
   ],
   "source": [
    "#вот тут нейронка обучается. Если чё, можно не дожидаться до конца и остановть\n",
    "device = torch.device('cuda') if torch.cuda.is_available() else torch.device('cpu')\n",
    "model = TextRNN(input_size=len(idx_to_char), hidden_size=128, embedding_size=128, n_layers=2)\n",
    "model.to(device)\n",
    "\n",
    "criterion = nn.CrossEntropyLoss()\n",
    "optimizer = torch.optim.Adam(model.parameters(), lr=1e-2, amsgrad=True)\n",
    "scheduler = torch.optim.lr_scheduler.ReduceLROnPlateau(\n",
    "    optimizer, \n",
    "    patience=5, \n",
    "    verbose=True, \n",
    "    factor=0.5\n",
    ")\n",
    "\n",
    "n_epochs = 50000\n",
    "loss_avg = []\n",
    "\n",
    "for epoch in range(n_epochs):\n",
    "    model.train()\n",
    "    train, target = get_batch(sequence)\n",
    "    train = train.permute(1, 0, 2).to(device)\n",
    "    target = target.permute(1, 0, 2).to(device)\n",
    "    hidden = model.init_hidden(BATCH_SIZE)\n",
    "\n",
    "    output, hidden = model(train, hidden)\n",
    "    loss = criterion(output.permute(1, 2, 0), target.squeeze(-1).permute(1, 0))\n",
    "    \n",
    "    loss.backward()\n",
    "    optimizer.step()\n",
    "    optimizer.zero_grad()\n",
    "    \n",
    "    loss_avg.append(loss.item())\n",
    "    if len(loss_avg) >= 50:\n",
    "        mean_loss = np.mean(loss_avg)\n",
    "        print(f'Loss: {mean_loss}')\n",
    "        scheduler.step(mean_loss)\n",
    "        loss_avg = []\n",
    "        model.eval()\n",
    "        predicted_text = evaluate(model, char_to_idx, idx_to_char)\n",
    "        print(predicted_text)"
   ]
  },
  {
   "cell_type": "code",
   "execution_count": null,
   "metadata": {},
   "outputs": [],
   "source": [
    "import pickle\n",
    "#сохранение обученной модели\n",
    "\n",
    "torch.save(model.state_dict(), 'model.pt')\n",
    "\n",
    "with open('char_to_idx.pickle', 'wb') as f:\n",
    "    pickle.dump(char_to_idx, f)\n",
    "\n",
    "with open('idx_to_char.pickle', 'wb') as f:\n",
    "    pickle.dump(idx_to_char, f)"
   ]
  },
  {
   "cell_type": "code",
   "execution_count": null,
   "metadata": {},
   "outputs": [
    {
     "name": "stdout",
     "output_type": "stream",
     "text": [
      "Это золотое кольцо 777 карат с голубым бриллиантомя самую прочную «связь» - в это верили древние греки, соотнося необычный благородный металл со столь же таинственным ночным светилом, символом богини Артемиды. Важно: Луна должна быть непременно растущей.\n"
     ]
    }
   ],
   "source": [
    "#сам генератор\n",
    "model.load_state_dict(torch.load(\"model.pt\"))\n",
    "model.eval()\n",
    "\n",
    "\n",
    "print(evaluate(\n",
    "    model, \n",
    "    char_to_idx, \n",
    "    idx_to_char, \n",
    "    temp=0.3, \n",
    "    prediction_len=200, \n",
    "    start_text='Это золотое кольцо 777 карат с голубым бриллиантом'\n",
    "    )\n",
    ")"
   ]
  }
 ],
 "metadata": {
  "kernelspec": {
   "display_name": "base",
   "language": "python",
   "name": "python3"
  },
  "language_info": {
   "codemirror_mode": {
    "name": "ipython",
    "version": 3
   },
   "file_extension": ".py",
   "mimetype": "text/x-python",
   "name": "python",
   "nbconvert_exporter": "python",
   "pygments_lexer": "ipython3",
   "version": "3.9.13"
  },
  "orig_nbformat": 4,
  "vscode": {
   "interpreter": {
    "hash": "19f1c31b30d5d595b05a3acfc8391c7c1c6ecd2a9dc2c021eec46f1d598f5db7"
   }
  }
 },
 "nbformat": 4,
 "nbformat_minor": 2
}
